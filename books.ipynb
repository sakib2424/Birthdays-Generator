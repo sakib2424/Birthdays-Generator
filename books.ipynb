{
 "cells": [
  {
   "cell_type": "markdown",
   "metadata": {},
   "source": [
    "# Question: Are the pronouns in Pride and Prejudice predominantly male or female"
   ]
  },
  {
   "cell_type": "markdown",
   "metadata": {},
   "source": [
    "## First, we will open the file:"
   ]
  },
  {
   "cell_type": "code",
   "execution_count": 1,
   "metadata": {},
   "outputs": [],
   "source": [
    " book = open(\"Pride_and_prejudice .txt\", \"r\")"
   ]
  },
  {
   "cell_type": "markdown",
   "metadata": {},
   "source": [
    "## Next, we will create a list to hold the number lists of words in every line"
   ]
  },
  {
   "cell_type": "code",
   "execution_count": 2,
   "metadata": {},
   "outputs": [],
   "source": [
    "words = []"
   ]
  },
  {
   "cell_type": "markdown",
   "metadata": {},
   "source": [
    "## Now, we will parse the contents of \"book\" line by line and store it in word"
   ]
  },
  {
   "cell_type": "code",
   "execution_count": 4,
   "metadata": {},
   "outputs": [],
   "source": [
    " for line in book:\n",
    "        words.append(line.split())"
   ]
  },
  {
   "cell_type": "markdown",
   "metadata": {},
   "source": [
    "## Close the open file \"book\""
   ]
  },
  {
   "cell_type": "code",
   "execution_count": 5,
   "metadata": {},
   "outputs": [],
   "source": [
    "book.close()"
   ]
  },
  {
   "cell_type": "markdown",
   "metadata": {},
   "source": [
    "## Create a dictionary of gender pronouns"
   ]
  },
  {
   "cell_type": "code",
   "execution_count": 6,
   "metadata": {},
   "outputs": [],
   "source": [
    "pronouns = {\n",
    "        \"he\": 0,\n",
    "        \"she\": 0,\n",
    "        \"him\": 0,\n",
    "        \"her\": 0,\n",
    "        \"his\": 0,\n",
    "        \"himself\": 0,\n",
    "        \"herself\": 0\n",
    "    }"
   ]
  },
  {
   "cell_type": "markdown",
   "metadata": {},
   "source": [
    "## Iterate through the words in \"words\" and increment the pronouns as they appear"
   ]
  },
  {
   "cell_type": "code",
   "execution_count": 7,
   "metadata": {},
   "outputs": [],
   "source": [
    "for line_of_words in words:\n",
    "        for word in line_of_words:\n",
    "            compare = word.lower()\n",
    "            if (compare in pronouns):\n",
    "                pronouns[compare] = pronouns.get(compare) + 1"
   ]
  },
  {
   "cell_type": "markdown",
   "metadata": {},
   "source": [
    "## Add up the male and female pronouns from the dictionary"
   ]
  },
  {
   "cell_type": "code",
   "execution_count": 8,
   "metadata": {},
   "outputs": [],
   "source": [
    "male_total = pronouns.get(\"he\") + pronouns.get(\"him\") + pronouns.get(\"his\") + pronouns.get(\"himself\")\n",
    "female_total = pronouns.get(\"she\") + pronouns.get(\"her\") + pronouns.get(\"herself\")"
   ]
  },
  {
   "cell_type": "markdown",
   "metadata": {},
   "source": [
    "## Now return which gender has the greater usage of pronouns"
   ]
  },
  {
   "cell_type": "code",
   "execution_count": 13,
   "metadata": {},
   "outputs": [
    {
     "name": "stdout",
     "output_type": "stream",
     "text": [
      "Male total is 3056\n",
      "Female total is 3673\n",
      "Female gender pronouns are used more often\n"
     ]
    }
   ],
   "source": [
    "print(\"Male total is \" + str(male_total))\n",
    "print(\"Female total is \" + str(female_total))\n",
    "male = False\n",
    "equal = False\n",
    "if (male_total > female_total):\n",
    "    male = True\n",
    "elif (male_total == female_total):\n",
    "    equal = True\n",
    "if (equal):\n",
    "    print(\"Male and female gender pronouns are used equally\")\n",
    "elif (male):\n",
    "    print(\"Male gender pronouns are used more often\")\n",
    "else:\n",
    "    print(\"Female gender pronouns are used more often\")"
   ]
  },
  {
   "cell_type": "code",
   "execution_count": null,
   "metadata": {},
   "outputs": [],
   "source": []
  }
 ],
 "metadata": {
  "kernelspec": {
   "display_name": "Python 3",
   "language": "python",
   "name": "python3"
  },
  "language_info": {
   "codemirror_mode": {
    "name": "ipython",
    "version": 3
   },
   "file_extension": ".py",
   "mimetype": "text/x-python",
   "name": "python",
   "nbconvert_exporter": "python",
   "pygments_lexer": "ipython3",
   "version": "3.7.4"
  }
 },
 "nbformat": 4,
 "nbformat_minor": 4
}
